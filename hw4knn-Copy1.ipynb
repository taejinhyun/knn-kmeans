{
 "cells": [
  {
   "cell_type": "code",
   "execution_count": 1,
   "metadata": {},
   "outputs": [],
   "source": [
    "import numpy as np\n",
    "import math\n",
    "import matplotlib.pyplot as plt"
   ]
  },
  {
   "cell_type": "code",
   "execution_count": 2,
   "metadata": {},
   "outputs": [],
   "source": [
    "import operator"
   ]
  },
  {
   "cell_type": "code",
   "execution_count": 11,
   "metadata": {},
   "outputs": [],
   "source": [
    "from sklearn import datasets\n",
    "from sklearn.model_selection import train_test_split\n",
    "import scipy.stats as ss"
   ]
  },
  {
   "cell_type": "code",
   "execution_count": 13,
   "metadata": {},
   "outputs": [],
   "source": [
    "RANDOM_STATE=11\n",
    "np.random.seed(RANDOM_STATE)"
   ]
  },
  {
   "cell_type": "code",
   "execution_count": 14,
   "metadata": {},
   "outputs": [],
   "source": [
    "mnist = datasets.load_digits()"
   ]
  },
  {
   "cell_type": "code",
   "execution_count": 15,
   "metadata": {},
   "outputs": [],
   "source": [
    "X_train, X_test, y_train, y_test = train_test_split(np.array(mnist.data), mnist.target, test_size=0.33, random_state=RANDOM_STATE)"
   ]
  },
  {
   "cell_type": "code",
   "execution_count": 6,
   "metadata": {},
   "outputs": [],
   "source": [
    "def distance(instance1, instance2, length): # 두 객체 사이 거리를 구하는 함수이다. (유클리드, L2)\n",
    "    distance = 0\n",
    "    for x in range(length):\n",
    "        distance += pow((instance1 - instance2), 2)\n",
    "    return np.sqrt(distance)"
   ]
  },
  {
   "cell_type": "code",
   "execution_count": 7,
   "metadata": {},
   "outputs": [],
   "source": [
    "def knn(trainSet, testInstance, y_train, k=5): # 테스트 객체 하나를 넣으면 train 하나씩과 거리를 계산하고 그 train target을 함께 저장한다.\n",
    "    distances = []  # target과 거리가 들어갈 리스트이다.\n",
    "    length = len(testInstance)-1 # test 객체의 길이만큼 반복한다.(64회)\n",
    "    for x in range(len(trainSet)): \n",
    "        dist = distance(testInstance, trainSet[x], length) # 넣은 test객체와 trainset간의 거리를 모두 계산한다.\n",
    "        distances.append((y_train[x], dist.mean())) # (글씨(0~9,target), 거리(행렬의 평균)) 튜플형식으로 distances 리스트에 저장한다.\n",
    "    distances.sort(key=operator.itemgetter(1)) # [(target,거리),(target,거리),(target,거리)..] 인 리스트에서 거리를 기준으로 리스트를 정렬한다.\n",
    "\n",
    "    neighbors = []\n",
    "    for x in range(k): # 정렬된 리스트의 k개를 neighbors에 저장한다.\n",
    "        neighbors.append(distances[x][0])\n",
    "    \n",
    "    return (distances, neighbors)"
   ]
  },
  {
   "cell_type": "code",
   "execution_count": 8,
   "metadata": {},
   "outputs": [],
   "source": [
    "def vote(neighbors): # 구한 k개의 neighbors들 중 가장 많이 나온 target을 구한다.\n",
    "    vote_counts={}\n",
    "    for vote in neighbors: # neighbors list 안에 해당 글자가 있으면 +1 아니면 1을 유지한다.\n",
    "        if vote in vote_counts:\n",
    "            vote_counts[vote]+=1\n",
    "        else:\n",
    "            vote_counts[vote]=1   # example : {4:2, 1:3 (target, 빈도)}\n",
    "    keys= list(vote_counts.keys()) # key값들만 저장된 리스트이다.\n",
    "    val=list(vote_counts.values()) # values 값들만 저장된 리스트이다.\n",
    "    \n",
    "    return keys[val.index(max(val))] # values중에 가장 높은 값의 인덱스를 구하고 그 인덱스를 키 값에 주면 가장 많이나온 target을 구할 수 있다."
   ]
  },
  {
   "cell_type": "code",
   "execution_count": 9,
   "metadata": {},
   "outputs": [],
   "source": [
    "def getAccuracy(testSet, predictions): # y_test와 비교한 정확도를 구할 수 있다.\n",
    "    correct = 0\n",
    "    for x in range(len(testSet)):\n",
    "        if testSet[x] == predictions[x]:\n",
    "            correct += 1\n",
    "    return (correct/float(len(testSet))) * 100.0"
   ]
  },
  {
   "cell_type": "code",
   "execution_count": 30,
   "metadata": {},
   "outputs": [],
   "source": [
    "pred_lst=[vote(knn(X_train, i, y_train)[1]) for i in X_test] "
   ]
  },
  {
   "cell_type": "code",
   "execution_count": 98,
   "metadata": {},
   "outputs": [
    {
     "data": {
      "text/plain": [
       "97.97979797979798"
      ]
     },
     "execution_count": 98,
     "metadata": {},
     "output_type": "execute_result"
    }
   ],
   "source": [
    "getAccuracy(y_test, pred_lst)"
   ]
  },
  {
   "cell_type": "code",
   "execution_count": 79,
   "metadata": {},
   "outputs": [],
   "source": [
    "distances=[knn(X_train, i, y_train)[0] for i in X_test] # 속도를 위해 distance를 미리 저장해준다.(test,train 사이 거리는 한번만 계산하면 된다.)"
   ]
  },
  {
   "cell_type": "code",
   "execution_count": 114,
   "metadata": {},
   "outputs": [],
   "source": [
    "def pred_knn(k): # k를 주면 k개만큼의 이웃을 구해 x_test에 대한 예상 분류값(594개)가 있는 list를 반환하는 함수이다.\n",
    "    pred_lst=[]\n",
    "    for i in distances:\n",
    "        neighbors = []\n",
    "        for x in range(k): \n",
    "            neighbors.append(i[x][0])\n",
    "        pred_lst.append(vote(neighbors))\n",
    "    return pred_lst"
   ]
  },
  {
   "cell_type": "code",
   "execution_count": 119,
   "metadata": {},
   "outputs": [],
   "source": [
    "acc_lst=[]"
   ]
  },
  {
   "cell_type": "code",
   "execution_count": 122,
   "metadata": {},
   "outputs": [],
   "source": [
    "for i in range(1,21): # k가 1~20일 때 정확도를 구해 list에 추가해준다.\n",
    "    acc_lst.append(getAccuracy(y_test,pred_knn(i)))"
   ]
  },
  {
   "cell_type": "code",
   "execution_count": 126,
   "metadata": {},
   "outputs": [
    {
     "data": {
      "text/plain": [
       "[<matplotlib.lines.Line2D at 0x23d281800f0>]"
      ]
     },
     "execution_count": 126,
     "metadata": {},
     "output_type": "execute_result"
    },
    {
     "data": {
      "image/png": "[encoded data removed]",
      "text/plain": [
       "<matplotlib.figure.Figure at 0x23d280ec630>"
      ]
     },
     "metadata": {},
     "output_type": "display_data"
    }
   ],
   "source": [
    "plt.plot(range(1,21), acc_lst) # 그래프로 확인한다."
   ]
  }
 ],
 "metadata": {
  "kernelspec": {
   "display_name": "Python 3",
   "language": "python",
   "name": "python3"
  },
  "language_info": {
   "codemirror_mode": {
    "name": "ipython",
    "version": 3
   },
   "file_extension": ".py",
   "mimetype": "text/x-python",
   "name": "python",
   "nbconvert_exporter": "python",
   "pygments_lexer": "ipython3",
   "version": "3.6.4"
  }
 },
 "nbformat": 4,
 "nbformat_minor": 2
}
